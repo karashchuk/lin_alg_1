{
  "nbformat": 4,
  "nbformat_minor": 0,
  "metadata": {
    "colab": {
      "name": "Lin_alg_1.ipynb",
      "provenance": [],
      "collapsed_sections": []
    },
    "kernelspec": {
      "name": "python3",
      "display_name": "Python 3"
    }
  },
  "cells": [
    {
      "cell_type": "markdown",
      "metadata": {
        "id": "xIpU2vcS8wQg",
        "colab_type": "text"
      },
      "source": [
        "# Решение заданий к уроку 1"
      ]
    },
    {
      "cell_type": "markdown",
      "metadata": {
        "id": "YjE7xb1QBgMr",
        "colab_type": "text"
      },
      "source": [
        "## Часть 1"
      ]
    },
    {
      "cell_type": "markdown",
      "metadata": {
        "id": "An94u8Z187VK",
        "colab_type": "text"
      },
      "source": [
        "### __1.__ Исследовать на линейную зависимость:\n",
        "$$f_{1}(x)=e^{x}, f_{2}(x)=1, f_{3}(x)=x+1, f_{4}(x)=x-e^{x}.$$"
      ]
    },
    {
      "cell_type": "markdown",
      "metadata": {
        "id": "iiasXA7Z9M0S",
        "colab_type": "text"
      },
      "source": [
        "__Решение__\n",
        "\n",
        "Заметим, что \n",
        "$$f_4(x) \\equiv  x - e^x = (x+1) - 1 - e^x \\equiv f_3(x) - f_2(x) -f_1(x)$$\n",
        "\n",
        "то есть вектор $f_4(x)$ — линейная комбинация векторов $f_3(x)$ , $f_2(x)$ и $ f_1(x)$, \n",
        "\n",
        "из чего можно сделать вывод, что  эти функции - линейно зависимы."
      ]
    },
    {
      "cell_type": "markdown",
      "metadata": {
        "id": "UOmk_KlS_6LS",
        "colab_type": "text"
      },
      "source": [
        "###__2.__ Исследовать на линейную зависимость:\n",
        "$$f_{1}(x)=2, f_{2}(x)=x, f_{3}(x)=x^{2}, f_{4}(x)=(x+1)^{2}.$$"
      ]
    },
    {
      "cell_type": "markdown",
      "metadata": {
        "id": "oJoTh9Ma_7sn",
        "colab_type": "text"
      },
      "source": [
        "__Решение__\n",
        "\n",
        "Заметим, что \n",
        "$$f_4(x) \\equiv  (x + 1)^2 = x^2 + 2x + 1 = (x^2) + 2\\cdot (x) + 2\\cdot (1) \\equiv f_3(x) + 2\\cdot f_2(x) + 2\\cdot f_1(x)$$\n",
        "\n",
        "то есть вектор $f_4(x)$ — линейная комбинация векторов $f_3(x)$ , $f_2(x)$  и  $f_1(x)$, \n",
        "\n",
        "из чего можно сделать вывод, что  эти функции - линейно зависимы."
      ]
    },
    {
      "cell_type": "markdown",
      "metadata": {
        "id": "I5RZVj8rBIZD",
        "colab_type": "text"
      },
      "source": [
        "### __3.__ Найти координаты вектора $x = (2, 3, 5)\\in \\mathbb{R}^{3}$ в базисе $b_{1}=(0, 0, 10)$, $b_{2}=(2, 0, 0)$, $b_{3}=(0, 1, 0)$."
      ]
    },
    {
      "cell_type": "markdown",
      "metadata": {
        "id": "WjaCGzLpCtqD",
        "colab_type": "text"
      },
      "source": [
        "__Решение__\n",
        "Чтобы найти координаты векnора в указанном базисе, нам необходимо найти такие $\\alpha_i$ для каждого $ b_i$, чтобы \n",
        "\n",
        "\n",
        "$$ x =  \\alpha_1  \\cdot b_1 + \\alpha_2  \\cdot b_2 + \\alpha_3  \\cdot b_3$$ \n",
        "\n",
        "отсюда \n",
        "\n",
        "$ 5 = \\alpha_1 * 10 \\,\\, \\to \\alpha_1 = \\frac{1}{2}$\n",
        "\n",
        "$ 2 = \\alpha_2 * 2 \\,\\, \\to \\alpha_2 = 1 $\n",
        "\n",
        "$ 3 = \\alpha_3 * 1 \\,\\, \\to \\alpha_3 = 3 $\n",
        "\n",
        "то есть координатами вектора $x$ в указанном базисе являются $\\frac{1}{2}$, $1$, $3$."
      ]
    },
    {
      "cell_type": "markdown",
      "metadata": {
        "id": "eeG_p-UhFZCB",
        "colab_type": "text"
      },
      "source": [
        "### __4.__ Найти координаты вектора $3x^{2}-2x+2\\in\\mathbb{R}^{3}[x]$:\n",
        "\n",
        "   а) в базисе $1$, $x$, $x^{2}$;\n",
        "\n",
        "   б) в базисе $x^{2}$, $x-1$, $1$."
      ]
    },
    {
      "cell_type": "markdown",
      "metadata": {
        "id": "6CMG_ZMIFaRI",
        "colab_type": "text"
      },
      "source": [
        "__Решение__\n",
        "\n",
        "__a)__\n",
        "\n",
        "Чтобы найти координаты вектора в указанном базисе, нам необходимо найти такие $\\alpha_i$ для каждого $ b_i$, чтобы вектор $y = 3x^{2}-2x+2$:\n",
        "\n",
        "\n",
        "$$ y =  \\alpha_1  \\cdot 1 + \\alpha_2  \\cdot x + \\alpha_3  \\cdot x^2$$ \n",
        "\n",
        "отсюда \n",
        "\n",
        "$ 2 = \\alpha_1 * 1 \\,\\, \\to \\alpha_1 = 2$\n",
        "\n",
        "$ -2x = \\alpha_2 * x  \\,\\, \\to \\alpha_2 = - 2 $\n",
        "\n",
        "$ 3x^2 = \\alpha_3 * x^2 \\,\\, \\to \\alpha_3 = 3 $\n",
        "\n",
        "то есть координатами вектора $y$ в указанном базисе являются $2$, $-2$, $3$.\n",
        "\n",
        "__б)__\n",
        "\n",
        "Чтобы найти координаты вектора в указанном базисе, нам необходимо найти такие $\\alpha_i$ для каждого $ b_i$, чтобы вектор $y = 3x^{2}-2x+2$:\n",
        "\n",
        "\n",
        "$$ y =  \\alpha_1  \\cdot x^2 + \\alpha_2  \\cdot (x - 1) + \\alpha_3  \\cdot 1 = \\alpha_1  \\cdot x^2 + \\alpha_2  \\cdot x + (\\alpha_3 - \\alpha_2)  \\cdot 1 $$ \n",
        "\n",
        "отсюда \n",
        "\n",
        "$ 3x^2 = \\alpha_1 * x^2 \\,\\, \\to \\alpha_1 = 3$\n",
        "\n",
        "$ -2x = \\alpha_2 * x  \\,\\, \\to \\alpha_2 = - 2 $\n",
        "\n",
        "$ 2 = (\\alpha_3 - \\alpha_2)*1 = \\alpha_3 - (-2) \\,\\,\\to \\alpha_3 = 0 $\n",
        "\n",
        "то есть координатами вектора $y$ в указанном базисе являются $3$, $-2$, $0$."
      ]
    },
    {
      "cell_type": "markdown",
      "metadata": {
        "id": "scZPrrC6JG8A",
        "colab_type": "text"
      },
      "source": [
        "### __5.__ Установить, является ли линейным подпространством:\n",
        "\n",
        "а) совокупность всех векторов трехмерного пространства, у которых по крайней мере одна из первых двух координат равна нулю;\n",
        "    \n",
        "б) все векторы, являющиеся линейными комбинациями данных векторов $\\{u_{1}, u_{2}, ..., u_{n}\\}$."
      ]
    },
    {
      "cell_type": "markdown",
      "metadata": {
        "id": "vzJag_h-JVhe",
        "colab_type": "text"
      },
      "source": [
        "__Решение__\n",
        "\n",
        "Подмножество $L$ линейного пространства $V$ является его подпространством тогда и только тогда, когда для любых элементов $u, v\\in L$ и любого $\\alpha \\in \\mathbb{R}$ выполняются условия:\n",
        "\n",
        "$$1)\\ u+v\\in L;$$\n",
        "\n",
        "$$2)\\ \\alpha\\cdot u \\in L.$$\n",
        "\n",
        "__а)__\n",
        "\n",
        "Проведя проверку по приведенному утверждению, мы увидим, что \n",
        "\n",
        "$$(0, a, b)+(c, 0, d) = (c, a, b+d),$$ \n",
        "\n",
        "\n",
        "Полученный вектор уже не принадлежат указанному в задании множеству всех векторов вида $(0, a, b) \\cup (c, 0, d)$, то есть данное множество не является линейным подпространством.\n",
        "\n",
        "\n",
        "\n",
        "__б)__\n",
        "\n",
        "Возьмем два произвольных вектора, которые являются линейными комбинациями векторов $\\{u_{1}, u_{2}, ..., u_{n}\\}$\n",
        "\n",
        "Их можно представить в виде:\n",
        "\n",
        "$x_1 = \\{\\alpha_1 \\cdot u_1, \\alpha_2 \\cdot u_2, ..., \\alpha_n \\cdot u_n\\}$\n",
        "\n",
        "$x_2 = \\{\\beta_1 \\cdot u_1, \\beta_2 \\cdot u_2, ..., \\beta_n \\cdot u_n\\}$\n",
        "\n",
        "Проведя проверку по приведенному утверждению, мы увидим, что \n",
        "\n",
        "$$ x_1 + x_2 = \\{(\\alpha_1 + \\beta_1)\\cdot u_1, (\\alpha_2 + \\beta_2) \\cdot u_2, ..., (\\alpha_n + \\beta_n) \\cdot u_n\\},$$ \n",
        "\n",
        "$$\\lambda\\cdot x_1 = \\{\\lambda \\alpha_1 \\cdot u_1, \\lambda \\alpha_2 \\cdot u_2, ..., \\lambda \\alpha_n \\cdot u_n\\}.$$\n",
        "\n",
        "\n",
        "Полученные векторы также являются линейными комбинациями векторов $\\{u_{1}, u_{2}, ..., u_{n}\\}$, следовательно данное множество является линейным подпространством."
      ]
    },
    {
      "cell_type": "markdown",
      "metadata": {
        "id": "NkZfEmuXQ41K",
        "colab_type": "text"
      },
      "source": [
        "## Часть 2"
      ]
    },
    {
      "cell_type": "markdown",
      "metadata": {
        "id": "F5eeh2MZUMQN",
        "colab_type": "text"
      },
      "source": [
        "### __1.__ Найти скалярное произведение векторов $x, y \\in \\mathbb{R}$:<br>\n",
        "а) $x=(0,-3, 6), \\,\\,\\, y=(-4, 7, 9);$<br>\n",
        "б) $x=(7, -4, 0, 1),\\,\\,\\, y=(-3, 1, 11, 2).$\n",
        "\n"
      ]
    },
    {
      "cell_type": "markdown",
      "metadata": {
        "id": "-EmjmKqXaRc3",
        "colab_type": "text"
      },
      "source": [
        "__Решение__\n",
        "\n",
        "__а)__"
      ]
    },
    {
      "cell_type": "code",
      "metadata": {
        "id": "mBO5zSk6OrxI",
        "colab_type": "code",
        "colab": {}
      },
      "source": [
        "import numpy as np\n"
      ],
      "execution_count": 59,
      "outputs": []
    },
    {
      "cell_type": "code",
      "metadata": {
        "id": "-J1CY3TYZwD_",
        "colab_type": "code",
        "colab": {
          "base_uri": "https://localhost:8080/",
          "height": 34
        },
        "outputId": "30a17ca4-1751-4d32-d67f-8968fa101a96"
      },
      "source": [
        "x = np.array([0, -3, 6])\n",
        "y = np.array([-4, 7, 9])\n",
        "print(f'Скалярное произведение x и y:   {np.dot(x, y)}')"
      ],
      "execution_count": 60,
      "outputs": [
        {
          "output_type": "stream",
          "text": [
            "Скалярное произведение x и y:   33\n"
          ],
          "name": "stdout"
        }
      ]
    },
    {
      "cell_type": "markdown",
      "metadata": {
        "id": "0LTIU0zWaaZ9",
        "colab_type": "text"
      },
      "source": [
        "__б)__\n"
      ]
    },
    {
      "cell_type": "code",
      "metadata": {
        "id": "MjZUdJk8agOt",
        "colab_type": "code",
        "colab": {
          "base_uri": "https://localhost:8080/",
          "height": 34
        },
        "outputId": "42771958-d820-452d-bd06-9ffbd03f5b39"
      },
      "source": [
        "x = np.array([7, -4, 0, 1])\n",
        "y = np.array([-3, 1, 11, 2])\n",
        "print(f'Скалярное произведение x и y:   {np.dot(x, y)}')"
      ],
      "execution_count": 61,
      "outputs": [
        {
          "output_type": "stream",
          "text": [
            "Скалярное произведение x и y:   -23\n"
          ],
          "name": "stdout"
        }
      ]
    },
    {
      "cell_type": "markdown",
      "metadata": {
        "id": "0q0q930-aIt-",
        "colab_type": "text"
      },
      "source": [
        "### __2.__ Найти нормы векторов $(4, 2, 4)$ и $(12, 3, 4)$ и угол между ними.\n",
        "\n",
        "\n"
      ]
    },
    {
      "cell_type": "code",
      "metadata": {
        "id": "wTiOWq25JXOx",
        "colab_type": "code",
        "colab": {
          "base_uri": "https://localhost:8080/",
          "height": 68
        },
        "outputId": "d2ef2f77-817f-4c75-8173-c915ea12a6e9"
      },
      "source": [
        "a = np.array([4,2,4])\n",
        "b = np.array([12,3,4])\n",
        "norm_a = np.linalg.norm(a)\n",
        "norm_b = np.linalg.norm(b)\n",
        "print(f'Норма вектора a = {norm_a}\\nНорма вектора b = {norm_b}')\n",
        "print(f'cos угла между a и b = {np.dot(a,b)/(norm_a*norm_b)}')\n"
      ],
      "execution_count": 62,
      "outputs": [
        {
          "output_type": "stream",
          "text": [
            "Норма вектора a = 6.0\n",
            "Норма вектора b = 13.0\n",
            "cos угла между a и b = 0.8974358974358975\n"
          ],
          "name": "stdout"
        }
      ]
    },
    {
      "cell_type": "markdown",
      "metadata": {
        "id": "yKCBI1WcaKrU",
        "colab_type": "text"
      },
      "source": [
        "### __3.__ Будет ли линейное пространство евклидовым, если за скалярное произведение принять:<br>\n",
        "а) произведение длин векторов;<br>\n",
        "б) утроенное обычное скалярное произведение векторов?\n",
        "   \n",
        "   \n"
      ]
    },
    {
      "cell_type": "markdown",
      "metadata": {
        "id": "iXAxCTaoLkkQ",
        "colab_type": "text"
      },
      "source": [
        "__Решение__\n",
        "\n",
        "Чтобы линейное пространство было евклидовым необходимо чтобы выполнялись четыре аксиомы:<br>\n",
        "1) $(x,y)=(y,x);$<br>\n",
        "2) $(\\lambda x, y)=\\lambda(x, y);$<br>\n",
        "3) $(x_{1}+x_{2},y)=(x_{1},y)+(x_{2},y);$<br>\n",
        "4) $(x, x)\\geq0$, причем $(x,x)=0\\Leftrightarrow x=0.$\n",
        "\n",
        "___Проверим___\n",
        "\n",
        "__а) произведение длин векторов__\n",
        "\n",
        "1) $|x|\\cdot |y| = |y|\\cdot |x|\\,\\,\\,$ - выполняется\n",
        "\n",
        "2) $|\\lambda x|\\cdot |y|=\\lambda|x|\\cdot |y|\\,\\,\\,$ - выполняется <br>\n",
        "\n",
        "3) $|x_{1}+x_{2}|\\cdot |y| \\leq  |x_1|\\cdot |y|+|x_2|\\cdot |y|\\,\\,\\,$ - не выполняется, так как в общем случае $|x_{1}+x_{2}|\\leq  |x_1|+|x_2| $\n",
        "\n",
        "Следовательно, если принять за скалярное произведение произведение длин векторов, то это не будет евклидовым пространством.\n",
        "\n",
        "__б) утроенное обычное скалярное произведение векторов__\n",
        "\n",
        "1) $3(x,y)=3(y,x)\\,\\,\\,$ - выполняется\n",
        "\n",
        "2) $(3\\lambda x, y)=3\\lambda(x, y)\\,\\,\\,$ - выполняется\n",
        "\n",
        "3) $3(x_{1}+x_{2},y)=3(x_{1},y)+3(x_{2},y)\\,\\,\\,$ - выполняется\n",
        "\n",
        "4) $3(x, x)\\geq0$, причем $3(x,x)=0\\Leftrightarrow x=0\\,\\,\\,$ - выполняется\n",
        "\n",
        "Следовательно, это будет евклидовым пространством.\n",
        "\n"
      ]
    },
    {
      "cell_type": "markdown",
      "metadata": {
        "id": "0ovKQ-ANaMbm",
        "colab_type": "text"
      },
      "source": [
        "### __4.__ Какие из нижеперечисленных векторов образуют ортонормированный базис в линейном пространстве $\\mathbb{R}^{3}$:<br>\n",
        "а) $(1,0,0),(0,0,1);$ <br>\n",
        "б) $(1/\\sqrt{2},-1/\\sqrt{2},0),(1/\\sqrt{2},1/\\sqrt{2},0), (0,0,1);$<br>\n",
        "в) $(1/2, -1/2, 0), (0, 1/2, 1/2), (0,0,1);$<br>\n",
        "г) $(1,0,0),(0,1,0),(0,0,1)?$ "
      ]
    },
    {
      "cell_type": "markdown",
      "metadata": {
        "id": "OoZKn-VrRntQ",
        "colab_type": "text"
      },
      "source": [
        "__Решение__\n",
        "\n",
        "В евклидовом пространстве $\\mathbb{R}^{3}$ базис  {e1,e2,e3}  называется ортонормированным, если\n",
        "\n",
        "$(e_i,e_j)=0   \\,\\,\\, \\forall \\,\\,\\,  i≠j \\,\\,\\, $ и $\\,\\,\\, (e_i,e_i)=1 \\,\\,\\,  \\forall \\,\\,\\,  i  \\in [1,3]$.\n",
        "\n",
        "Проверим:\n"
      ]
    },
    {
      "cell_type": "code",
      "metadata": {
        "id": "Q8BHP4ymSSNx",
        "colab_type": "code",
        "colab": {}
      },
      "source": [
        "from itertools import combinations\n",
        "comb = list(combinations(range(4), r=2))\n",
        "acc = 0.0000001   # - задаем точность вычисления\n",
        "\n",
        "# построим функцию для проверки ортонормированности\n",
        "\n",
        "def check_basis(arr): # \n",
        "  comb = list(combinations(range(arr.shape[0]), r=2))\n",
        "  txt = ''\n",
        "  for c in comb:\n",
        "    if abs(np.dot(arr[c[0]],arr[c[1]])) > acc: # проверка равности нулю скалярного произведения каждой пары векторов\n",
        "      txt += f'скалярное произведение не равно 0 для векторов {arr[c[0]]} и {arr[c[1]]} \\n'\n",
        "  for a in arr:\n",
        "    if abs(np.linalg.norm(a) - 1) > acc: # проверка что каждый из векторов - единичный\n",
        "      txt += f'вектор{a} - не единичный  \\n'\n",
        "  if txt == '':\n",
        "    print ('Векторы образуют ортонормированный базис\\n')\n",
        "    return True\n",
        "  else:\n",
        "    print(f'Векторы не образуют ортонормированный базис, потому что: \\n{txt}')\n",
        "    return False\n"
      ],
      "execution_count": 63,
      "outputs": []
    },
    {
      "cell_type": "markdown",
      "metadata": {
        "id": "tGyADIMGaEYo",
        "colab_type": "text"
      },
      "source": [
        "__а)__ $(1,0,0),(0,0,1);$ <br>\n"
      ]
    },
    {
      "cell_type": "code",
      "metadata": {
        "id": "sfkg5aeyTjIW",
        "colab_type": "code",
        "colab": {
          "base_uri": "https://localhost:8080/",
          "height": 85
        },
        "outputId": "b7c03880-e14d-4901-b4ed-366fb272b964"
      },
      "source": [
        "a = np.array([[1,0,0],[0,0,1],[0,0,0]]) # в условии задачи указано что рамерность пространства = 3, и так как третий вектор не задан, зададим его нулевым \n",
        "check_basis(a)"
      ],
      "execution_count": 66,
      "outputs": [
        {
          "output_type": "stream",
          "text": [
            "Векторы не образуют ортонормированный базис, потому что: \n",
            "вектор[0 0 0] - не единичный  \n",
            "\n"
          ],
          "name": "stdout"
        },
        {
          "output_type": "execute_result",
          "data": {
            "text/plain": [
              "False"
            ]
          },
          "metadata": {
            "tags": []
          },
          "execution_count": 66
        }
      ]
    },
    {
      "cell_type": "markdown",
      "metadata": {
        "id": "k5jXNMlPaKLq",
        "colab_type": "text"
      },
      "source": [
        "__б)__ $(1/\\sqrt{2},-1/\\sqrt{2},0),(1/\\sqrt{2},1/\\sqrt{2},0), (0,0,1);$<br>\n"
      ]
    },
    {
      "cell_type": "code",
      "metadata": {
        "id": "NUSKjeF1afbs",
        "colab_type": "code",
        "colab": {
          "base_uri": "https://localhost:8080/",
          "height": 68
        },
        "outputId": "8832b795-ff6d-402a-c55b-d020ed748cb8"
      },
      "source": [
        "b = np.array([[1/np.sqrt(2),-1/np.sqrt(2),0],[1/np.sqrt(2),1/np.sqrt(2),0],[0,0,1]])\n",
        "check_basis(b)"
      ],
      "execution_count": 67,
      "outputs": [
        {
          "output_type": "stream",
          "text": [
            "Векторы образуют ортонормированный базис\n",
            "\n"
          ],
          "name": "stdout"
        },
        {
          "output_type": "execute_result",
          "data": {
            "text/plain": [
              "True"
            ]
          },
          "metadata": {
            "tags": []
          },
          "execution_count": 67
        }
      ]
    },
    {
      "cell_type": "markdown",
      "metadata": {
        "id": "aqFzay6eaPBd",
        "colab_type": "text"
      },
      "source": [
        "__в)__ $(1/2, -1/2, 0), (0, 1/2, 1/2), (0,0,1);$<br>\n"
      ]
    },
    {
      "cell_type": "code",
      "metadata": {
        "id": "orUesphwbIu8",
        "colab_type": "code",
        "colab": {
          "base_uri": "https://localhost:8080/",
          "height": 136
        },
        "outputId": "65f83cf2-f429-4f46-c5c3-16cfccaa5540"
      },
      "source": [
        "c = np.array([[1/2,-1/2,0],[0,1/2,1/2],[0,0,1]])\n",
        "check_basis(c)"
      ],
      "execution_count": 68,
      "outputs": [
        {
          "output_type": "stream",
          "text": [
            "Векторы не образуют ортонормированный базис, потому что: \n",
            "скалярное произведение не равно 0 для векторов [ 0.5 -0.5  0. ] и [0.  0.5 0.5] \n",
            "скалярное произведение не равно 0 для векторов [0.  0.5 0.5] и [0. 0. 1.] \n",
            "вектор[ 0.5 -0.5  0. ] - не единичный  \n",
            "вектор[0.  0.5 0.5] - не единичный  \n",
            "\n"
          ],
          "name": "stdout"
        },
        {
          "output_type": "execute_result",
          "data": {
            "text/plain": [
              "False"
            ]
          },
          "metadata": {
            "tags": []
          },
          "execution_count": 68
        }
      ]
    },
    {
      "cell_type": "markdown",
      "metadata": {
        "id": "Dqzx57fdaSbc",
        "colab_type": "text"
      },
      "source": [
        "__г)__ $(1,0,0),(0,1,0),(0,0,1)$ "
      ]
    },
    {
      "cell_type": "code",
      "metadata": {
        "id": "WcE8_S8eV6sW",
        "colab_type": "code",
        "colab": {
          "base_uri": "https://localhost:8080/",
          "height": 68
        },
        "outputId": "ebeee574-6d10-49fc-8ebd-7eca661b496c"
      },
      "source": [
        "d = np.array([[1,0,0],[0,1,0],[0,0,1]])\n",
        "check_basis(d)"
      ],
      "execution_count": 70,
      "outputs": [
        {
          "output_type": "stream",
          "text": [
            "Векторы образуют ортонормированный базис\n",
            "\n"
          ],
          "name": "stdout"
        },
        {
          "output_type": "execute_result",
          "data": {
            "text/plain": [
              "True"
            ]
          },
          "metadata": {
            "tags": []
          },
          "execution_count": 70
        }
      ]
    }
  ]
}